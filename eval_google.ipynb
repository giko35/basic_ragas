{
 "cells": [
  {
   "cell_type": "code",
   "execution_count": null,
   "id": "5aabecf4",
   "metadata": {},
   "outputs": [],
   "source": [
    "import os\n",
    "from dotenv import load_dotenv\n",
    "load_dotenv()\n",
    "\n",
    "google_api_key = os.getenv(\"GOOGLE_API_KEY\")"
   ]
  },
  {
   "cell_type": "code",
   "execution_count": null,
   "id": "c48f215c",
   "metadata": {},
   "outputs": [],
   "source": [
    "modelId = 'gemini-2.5-flash'\n",
    "#modelId = 'gemini-2.5-pro'\n",
    "\n",
    "config = {\n",
    "    \"model\": modelId,  # or other model IDs\n",
    "    \"temperature\": 0.4,\n",
    "    \"max_tokens\": None,\n",
    "    \"top_p\": 0.8,\n",
    "}"
   ]
  },
  {
   "cell_type": "code",
   "execution_count": null,
   "id": "f214e2b0",
   "metadata": {},
   "outputs": [],
   "source": [
    "from ragas.llms import LangchainLLMWrapper\n",
    "from ragas.embeddings import LangchainEmbeddingsWrapper\n",
    "\n",
    "# Choose the appropriate import based on your API:\n",
    "from langchain_google_genai import ChatGoogleGenerativeAI\n",
    "\n",
    "# Initialize with Google AI Studio\n",
    "evaluator_llm = LangchainLLMWrapper(ChatGoogleGenerativeAI(\n",
    "    model=config[\"model\"],\n",
    "    temperature=config[\"temperature\"],\n",
    "    max_tokens=config[\"max_tokens\"],\n",
    "    top_p=config[\"top_p\"],\n",
    "))\n",
    "\n",
    "# Google AI Studio Embeddings\n",
    "from langchain_google_genai import GoogleGenerativeAIEmbeddings\n",
    "\n",
    "evaluator_embeddings = LangchainEmbeddingsWrapper(GoogleGenerativeAIEmbeddings(\n",
    "    model=\"models/embedding-001\",  # Google's text embedding model\n",
    "    task_type=\"retrieval_document\"  # Optional: specify the task type\n",
    "))"
   ]
  },
  {
   "cell_type": "code",
   "execution_count": null,
   "id": "8fd6d089",
   "metadata": {},
   "outputs": [],
   "source": [
    "import json\n",
    "from dataset import extract_rag_data\n",
    "\n",
    "source_data = extract_rag_data(csv_path=\"questions_file.csv\")\n",
    "dataset = [\n",
    "    {\n",
    "        \"user_input\": item[\"user_input\"],\n",
    "        \"response\": item[\"response\"],\n",
    "        \"reference\": item[\"reference\"],\n",
    "        \"retrieved_contexts\": item[\"retrieved_contexts\"]\n",
    "    } \n",
    "    for item in source_data\n",
    "]\n",
    "\n",
    "print(json.dumps(dataset, indent=2, ensure_ascii=False))"
   ]
  },
  {
   "cell_type": "code",
   "execution_count": null,
   "id": "bec99ffb",
   "metadata": {},
   "outputs": [],
   "source": [
    "from ragas import EvaluationDataset\n",
    "eval_dataset = EvaluationDataset.from_list(dataset)\n",
    "print(\"Features in dataset:\", eval_dataset.features())\n",
    "print(\"Total samples in dataset:\", len(eval_dataset))"
   ]
  },
  {
   "cell_type": "code",
   "execution_count": null,
   "id": "c8448c24",
   "metadata": {},
   "outputs": [],
   "source": [
    "from ragas import evaluate\n",
    "from ragas.metrics import LLMContextRecall, Faithfulness, FactualCorrectness\n",
    "\n",
    "result = evaluate(dataset=eval_dataset,metrics=[LLMContextRecall(), Faithfulness(), FactualCorrectness()],llm=evaluator_llm)\n",
    "result"
   ]
  },
  {
   "cell_type": "code",
   "execution_count": null,
   "id": "a67a87d5",
   "metadata": {},
   "outputs": [],
   "source": [
    "df = result.to_pandas()\n",
    "df"
   ]
  }
 ],
 "metadata": {
  "kernelspec": {
   "display_name": "Python 3",
   "language": "python",
   "name": "python3"
  },
  "language_info": {
   "codemirror_mode": {
    "name": "ipython",
    "version": 3
   },
   "file_extension": ".py",
   "mimetype": "text/x-python",
   "name": "python",
   "nbconvert_exporter": "python",
   "pygments_lexer": "ipython3",
   "version": "3.12.10"
  }
 },
 "nbformat": 4,
 "nbformat_minor": 5
}
