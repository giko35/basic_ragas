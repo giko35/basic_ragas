{
 "cells": [
  {
   "cell_type": "code",
   "execution_count": null,
   "id": "c48f215c",
   "metadata": {},
   "outputs": [],
   "source": [
    "modelId = 'us.anthropic.claude-3-5-sonnet-20241022-v2:0'\n",
    "\n",
    "config = {\n",
    "    \"credentials_profile_name\": \"default\",\n",
    "    \"region_name\": \"us-east-1\",\n",
    "    \"llm\": modelId,\n",
    "    \"embeddings\": \"amazon.titan-embed-text-v2:0\",\n",
    "    \"temperature\": 0.4,\n",
    "}"
   ]
  },
  {
   "cell_type": "code",
   "execution_count": null,
   "id": "f214e2b0",
   "metadata": {},
   "outputs": [],
   "source": [
    "from langchain_aws import ChatBedrockConverse\n",
    "from langchain_aws import BedrockEmbeddings\n",
    "from ragas.llms import LangchainLLMWrapper\n",
    "from ragas.embeddings import LangchainEmbeddingsWrapper\n",
    "\n",
    "evaluator_llm = LangchainLLMWrapper(ChatBedrockConverse(\n",
    "    credentials_profile_name=config[\"credentials_profile_name\"],\n",
    "    region_name=config[\"region_name\"],\n",
    "    base_url=f\"https://bedrock-runtime.{config['region_name']}.amazonaws.com\",\n",
    "    model=config[\"llm\"],\n",
    "    temperature=config[\"temperature\"],\n",
    "))\n",
    "evaluator_embeddings = LangchainEmbeddingsWrapper(BedrockEmbeddings(\n",
    "    credentials_profile_name=config[\"credentials_profile_name\"],\n",
    "    region_name=config[\"region_name\"],\n",
    "    model_id=config[\"embeddings\"],\n",
    "))"
   ]
  },
  {
   "cell_type": "code",
   "execution_count": null,
   "id": "8fd6d089",
   "metadata": {},
   "outputs": [],
   "source": [
    "import json\n",
    "from dataset import extract_rag_data\n",
    "\n",
    "source_data = extract_rag_data(csv_path=\"questions_file.csv\")\n",
    "dataset = [\n",
    "    {\n",
    "        \"user_input\": item[\"user_input\"],\n",
    "        \"response\": item[\"response\"],\n",
    "        \"reference\": item[\"reference\"],\n",
    "        \"retrieved_contexts\": item[\"retrieved_contexts\"]\n",
    "    } \n",
    "    for item in source_data\n",
    "]\n",
    "\n",
    "print(json.dumps(dataset, indent=2, ensure_ascii=False))"
   ]
  },
  {
   "cell_type": "code",
   "execution_count": null,
   "id": "bec99ffb",
   "metadata": {},
   "outputs": [],
   "source": [
    "from ragas import EvaluationDataset\n",
    "eval_dataset = EvaluationDataset.from_list(dataset)\n",
    "print(\"Features in dataset:\", eval_dataset.features())\n",
    "print(\"Total samples in dataset:\", len(eval_dataset))"
   ]
  },
  {
   "cell_type": "code",
   "execution_count": null,
   "id": "c8448c24",
   "metadata": {},
   "outputs": [],
   "source": [
    "from ragas import evaluate\n",
    "from ragas.metrics import LLMContextRecall, Faithfulness, FactualCorrectness\n",
    "\n",
    "result = evaluate(dataset=eval_dataset,metrics=[LLMContextRecall(), Faithfulness(), FactualCorrectness()],llm=evaluator_llm)\n",
    "result"
   ]
  },
  {
   "cell_type": "code",
   "execution_count": 15,
   "id": "a67a87d5",
   "metadata": {},
   "outputs": [
    {
     "data": {
      "text/html": [
       "<div>\n",
       "<style scoped>\n",
       "    .dataframe tbody tr th:only-of-type {\n",
       "        vertical-align: middle;\n",
       "    }\n",
       "\n",
       "    .dataframe tbody tr th {\n",
       "        vertical-align: top;\n",
       "    }\n",
       "\n",
       "    .dataframe thead th {\n",
       "        text-align: right;\n",
       "    }\n",
       "</style>\n",
       "<table border=\"1\" class=\"dataframe\">\n",
       "  <thead>\n",
       "    <tr style=\"text-align: right;\">\n",
       "      <th></th>\n",
       "      <th>user_input</th>\n",
       "      <th>retrieved_contexts</th>\n",
       "      <th>response</th>\n",
       "      <th>reference</th>\n",
       "      <th>context_recall</th>\n",
       "      <th>faithfulness</th>\n",
       "      <th>factual_correctness(mode=f1)</th>\n",
       "    </tr>\n",
       "  </thead>\n",
       "  <tbody>\n",
       "    <tr>\n",
       "      <th>0</th>\n",
       "      <td>כמה ימי חופשה מקבלים בשנה?</td>\n",
       "      <td>[[הסכם 17.08.2015 סעיף 7.2] \"עם המעבר לשבוע עב...</td>\n",
       "      <td>נכון להיום, בהתאם להסכם משנת 2015, רופא וטרינר...</td>\n",
       "      <td>נכון להיום (2015), רופא וטרינר זכאי ל-22 ימי ח...</td>\n",
       "      <td>0.666667</td>\n",
       "      <td>0.666667</td>\n",
       "      <td>0.73</td>\n",
       "    </tr>\n",
       "    <tr>\n",
       "      <th>1</th>\n",
       "      <td>מהם כללי הקידום לרופא וטרינרי שאינו מומחה במשר...</td>\n",
       "      <td>[[הסכם 10.02.1992 סעיף 4] \"רופא וטרינרי (שאינו...</td>\n",
       "      <td>רופא וטרינרי שאינו מומחה במשרד הבריאות מתחיל ב...</td>\n",
       "      <td>נכון להיום (2015), כללי הקידום לרופא וטרינרי ש...</td>\n",
       "      <td>0.500000</td>\n",
       "      <td>0.900000</td>\n",
       "      <td>0.77</td>\n",
       "    </tr>\n",
       "    <tr>\n",
       "      <th>2</th>\n",
       "      <td>מאיזו שעה משולמת שעה נוספת?</td>\n",
       "      <td>[[הסכם 17.08.2015 סעיף 6.2] \"**שבוע העבודה יעמ...</td>\n",
       "      <td>החל מיום 1.9.2015, שעה נוספת משולמת לאחר השלמת...</td>\n",
       "      <td>החל מיום 1.9.2015, שעה נוספת משולמת לאחר השלמת...</td>\n",
       "      <td>0.000000</td>\n",
       "      <td>0.000000</td>\n",
       "      <td>0.89</td>\n",
       "    </tr>\n",
       "  </tbody>\n",
       "</table>\n",
       "</div>"
      ],
      "text/plain": [
       "                                          user_input  \\\n",
       "0                        כמה ימי חופשה מקבלים בשנה?    \n",
       "1  מהם כללי הקידום לרופא וטרינרי שאינו מומחה במשר...   \n",
       "2                        מאיזו שעה משולמת שעה נוספת?   \n",
       "\n",
       "                                  retrieved_contexts  \\\n",
       "0  [[הסכם 17.08.2015 סעיף 7.2] \"עם המעבר לשבוע עב...   \n",
       "1  [[הסכם 10.02.1992 סעיף 4] \"רופא וטרינרי (שאינו...   \n",
       "2  [[הסכם 17.08.2015 סעיף 6.2] \"**שבוע העבודה יעמ...   \n",
       "\n",
       "                                            response  \\\n",
       "0  נכון להיום, בהתאם להסכם משנת 2015, רופא וטרינר...   \n",
       "1  רופא וטרינרי שאינו מומחה במשרד הבריאות מתחיל ב...   \n",
       "2  החל מיום 1.9.2015, שעה נוספת משולמת לאחר השלמת...   \n",
       "\n",
       "                                           reference  context_recall  \\\n",
       "0  נכון להיום (2015), רופא וטרינר זכאי ל-22 ימי ח...        0.666667   \n",
       "1  נכון להיום (2015), כללי הקידום לרופא וטרינרי ש...        0.500000   \n",
       "2  החל מיום 1.9.2015, שעה נוספת משולמת לאחר השלמת...        0.000000   \n",
       "\n",
       "   faithfulness  factual_correctness(mode=f1)  \n",
       "0      0.666667                          0.73  \n",
       "1      0.900000                          0.77  \n",
       "2      0.000000                          0.89  "
      ]
     },
     "execution_count": 15,
     "metadata": {},
     "output_type": "execute_result"
    }
   ],
   "source": [
    "df = result.to_pandas()\n",
    "df"
   ]
  }
 ],
 "metadata": {
  "kernelspec": {
   "display_name": "Python 3",
   "language": "python",
   "name": "python3"
  },
  "language_info": {
   "codemirror_mode": {
    "name": "ipython",
    "version": 3
   },
   "file_extension": ".py",
   "mimetype": "text/x-python",
   "name": "python",
   "nbconvert_exporter": "python",
   "pygments_lexer": "ipython3",
   "version": "3.12.10"
  }
 },
 "nbformat": 4,
 "nbformat_minor": 5
}
